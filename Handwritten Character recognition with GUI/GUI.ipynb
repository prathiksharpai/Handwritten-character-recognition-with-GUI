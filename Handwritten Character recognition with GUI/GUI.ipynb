{
 "cells": [
  {
   "cell_type": "code",
   "execution_count": null,
   "metadata": {},
   "outputs": [
    {
     "ename": "",
     "evalue": "",
     "output_type": "error",
     "traceback": [
      "\u001b[1;31mFailed to start the Kernel. \n",
      "\u001b[1;31mUnable to start Kernel 'Python 3.11.4' due to a timeout waiting for the ports to get used. \n",
      "\u001b[1;31mView Jupyter <a href='command:jupyter.viewOutput'>log</a> for further details."
     ]
    }
   ],
   "source": [
    "!pip install pillow"
   ]
  },
  {
   "cell_type": "code",
   "execution_count": 5,
   "metadata": {},
   "outputs": [
    {
     "name": "stdout",
     "output_type": "stream",
     "text": [
      "1/1 [==============================] - 2s 2s/step\n",
      "1/1 [==============================] - 0s 95ms/step\n",
      "1/1 [==============================] - 0s 156ms/step\n",
      "1/1 [==============================] - 0s 258ms/step\n"
     ]
    }
   ],
   "source": [
    "import tkinter as tk\n",
    "from tkinter import filedialog\n",
    "from PIL import Image, ImageTk\n",
    "import tensorflow as tf\n",
    "import numpy as np\n",
    "\n",
    "# Assuming your model outputs probabilities for each letter (26 classes)\n",
    "alphabet = \"ABCDEFGHIJKLMNOPQRSTUVWXYZ\"\n",
    "\n",
    "# Load the trained CNN model\n",
    "model = tf.keras.models.load_model('model_hand1.h5')\n",
    "\n",
    "# Function to preprocess and predict the uploaded image\n",
    "def predict_image(file_path):\n",
    "    img = Image.open(file_path).convert(\"L\")  # Convert to grayscale\n",
    "    img = img.resize((28, 28))  # Resize to the model's input size\n",
    "    img_array = np.array(img) / 255.0  # Normalize pixel values\n",
    "    img_array = np.expand_dims(img_array, axis=0)  # Add batch dimension\n",
    "\n",
    "    # Make prediction\n",
    "    prediction = model.predict(img_array)\n",
    "    predicted_label = np.argmax(prediction)\n",
    "    predicted_char = alphabet[predicted_label]\n",
    "\n",
    "    result_label.config(text=f\"Prediction: {predicted_char}\")\n",
    "\n",
    "# Function to open a file dialog for image selection\n",
    "def open_file_dialog():\n",
    "    file_path = filedialog.askopenfilename()\n",
    "    if file_path:\n",
    "        predict_image(file_path)\n",
    "        display_image(file_path)\n",
    "\n",
    "# Function to display the selected image in the Tkinter window\n",
    "def display_image(file_path):\n",
    "    img = Image.open(file_path)\n",
    "    img.thumbnail((200, 200))\n",
    "    img = ImageTk.PhotoImage(img)\n",
    "\n",
    "    image_label.config(image=img)\n",
    "    image_label.image = img\n",
    "\n",
    "# Create the Tkinter window\n",
    "root = tk.Tk()\n",
    "root.title(\"Alphabet Recognition\")\n",
    "\n",
    "# Create and configure GUI components\n",
    "upload_button = tk.Button(root, text=\"Upload Image\", command=open_file_dialog)\n",
    "upload_button.pack(pady=10)\n",
    "\n",
    "image_label = tk.Label(root)\n",
    "image_label.pack()\n",
    "\n",
    "result_label = tk.Label(root, text=\"Prediction: \")\n",
    "result_label.pack(pady=10)\n",
    "\n",
    "# Start the Tkinter main loop\n",
    "root.mainloop()\n"
   ]
  },
  {
   "cell_type": "code",
   "execution_count": null,
   "metadata": {},
   "outputs": [],
   "source": []
  }
 ],
 "metadata": {
  "kernelspec": {
   "display_name": "Python 3",
   "language": "python",
   "name": "python3"
  },
  "language_info": {
   "codemirror_mode": {
    "name": "ipython",
    "version": 3
   },
   "file_extension": ".py",
   "mimetype": "text/x-python",
   "name": "python",
   "nbconvert_exporter": "python",
   "pygments_lexer": "ipython3",
   "version": "3.11.4"
  }
 },
 "nbformat": 4,
 "nbformat_minor": 2
}
